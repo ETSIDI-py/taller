{
 "cells": [
  {
   "cell_type": "markdown",
   "id": "afa13356-099d-4fb0-a951-7a22f88e0b47",
   "metadata": {
    "id": "afa13356-099d-4fb0-a951-7a22f88e0b47"
   },
   "source": [
    "![logo](logo.png)"
   ]
  },
  {
   "cell_type": "markdown",
   "id": "7e1059ea-4890-4321-89f4-1a41b4a847f9",
   "metadata": {
    "id": "7e1059ea-4890-4321-89f4-1a41b4a847f9",
    "tags": []
   },
   "source": [
    "# Actividad Universitaria Acreditable (1 ECTS)\n",
    "Significa que si cumples los requisitos (asistir al menos al 80% de la duración y realizar un proyecto) se certifica el cumplimiento satisfactorio del Taller.\n",
    "\n",
    "Para obtener el crédito ECTS hay que hacer una solicitud. La solicitud es un proceso administrativo independiente (aunque requiere haber pasado positivamente el Taller) que se realiza en Secretaría. Esta es la información al respecto:\n",
    "https://www.etsidi.upm.es/Estudiantes/AgendaAcademica/Actividades_formativas_reconocibles\n",
    "\n",
    "La actividad fue aprobada en 2021 y 2022 en la Comisión de Ordenación Académica de la ETSIDI:\n",
    "\n",
    "https://www.etsidi.upm.es/sfs/ETSIDI/ADMINISTRACION%20Y%20SECRETARIA/DOCUMENTOS/2021_06_25.pdf\n",
    "\n",
    "https://www.etsidi.upm.es/sfs/ETSIDI/ADMINISTRACION%20Y%20SECRETARIA/DOCUMENTOS/2022_11_15.pdf\n",
    "\n",
    "Calificación: Apto (No cuenta para nota expediente)"
   ]
  },
  {
   "cell_type": "markdown",
   "id": "f92814a6-4dbd-4b43-aa94-6028348be14e",
   "metadata": {
    "id": "f92814a6-4dbd-4b43-aa94-6028348be14e"
   },
   "source": [
    "# Participantes\n",
    "* 1 profesor de la ETSIDI\n",
    "* 15-20 estudiantes de la ETSIDI (Han cursado Programación previamente o con conocimientos)\n",
    "Grados (ordenados por número de participantes)\n",
    "    * Graduado en Ingeniería Electrónica Industrial y Automática\n",
    "    * Graduado en Ingeniería Mecánica\n",
    "    * Graduado en Ingeniería en Diseño Industrial y Desarrollo de Producto\n",
    "    * Graduado en Ingeniería Química"
   ]
  },
  {
   "cell_type": "markdown",
   "id": "ad926af8-81a8-4fcc-9c4f-4d4994f9a7f1",
   "metadata": {
    "id": "ad926af8-81a8-4fcc-9c4f-4d4994f9a7f1"
   },
   "source": [
    "# Programación"
   ]
  },
  {
   "cell_type": "markdown",
   "id": "9c6f0d0d-939d-42ac-9eb9-157809abcd07",
   "metadata": {
    "id": "9c6f0d0d-939d-42ac-9eb9-157809abcd07"
   },
   "source": [
    "## Alto vs. bajo nivel abstracción\n",
    "![abs1](imgs/abstraccion1.png)\n",
    "![abs2](imgs/abstraccion2.png)\n",
    "\n",
    "fuente:https://ergo-science.com/ja/levels-of-programming-languange/\n",
    "### ALTO \n",
    "![abs-alto](imgs/abs_alto.png)\n",
    "\n",
    "https://www.scratchjr.org/learn/interface\n",
    "\n",
    "### BAJO\n",
    "![abs-bajo](imgs/abs_bajo.png)\n",
    "\n",
    "https://www.youtube.com/watch?v=iYyRvd79KT4"
   ]
  },
  {
   "cell_type": "markdown",
   "id": "39237419-8844-4d75-8273-ad1e114ce5dc",
   "metadata": {
    "id": "39237419-8844-4d75-8273-ad1e114ce5dc"
   },
   "source": [
    "# Python"
   ]
  },
  {
   "cell_type": "markdown",
   "id": "28c6f72b-a01d-4aac-907a-8c0f0ffd80eb",
   "metadata": {
    "id": "28c6f72b-a01d-4aac-907a-8c0f0ffd80eb"
   },
   "source": [
    "https://www.reddit.com/r/Python/comments/6xsr6x/what_is_the_simple_analogy_to_explain_python/\n",
    "\n",
    ">\"Python is a language that makes code easy to understand, write, and reuse by removing visual noise from code ({;), leveraging white space as a programming structural element, and providing inherent and obvious standards for common class operations so code is elegant and consistent between programmers.\n",
    ">Too technical?\n",
    ">Python is a language that translates ideas between a human and computer. Other languages work like a computer thinks, then makes the human comply. Python emulates the way a human thinks, so that writing code is easier for us.\"\n",
    "\n",
    ">\"I'd agree; python is a programming language with an emphasis on the UX needs of the human. Takes into account our innate psychological tendencies. **Zen of Python** sums this up very well.\""
   ]
  },
  {
   "cell_type": "code",
   "execution_count": null,
   "id": "4162d555-1b39-4840-8da6-9535a54f3f22",
   "metadata": {
    "colab": {
     "base_uri": "https://localhost:8080/"
    },
    "id": "4162d555-1b39-4840-8da6-9535a54f3f22",
    "outputId": "6b5cae01-1b37-47c9-f80b-80e5d0b68415",
    "tags": []
   },
   "outputs": [],
   "source": [
    "import this # huevo de pascua"
   ]
  },
  {
   "cell_type": "markdown",
   "id": "25110cf5-477c-4159-add6-25747e36e835",
   "metadata": {
    "id": "25110cf5-477c-4159-add6-25747e36e835"
   },
   "source": [
    "![python_favorite](imgs/python_favorite.png)\n",
    "![python_desired](imgs/python_desired.png)\n",
    "\n",
    "fuente:https://www.i-programmer.info/news/216-python/14393-python-favorites.html"
   ]
  },
  {
   "cell_type": "markdown",
   "id": "e7dc83d7-6b2f-4fe9-858f-542be606c2e6",
   "metadata": {
    "id": "e7dc83d7-6b2f-4fe9-858f-542be606c2e6",
    "tags": []
   },
   "source": [
    "## Performance!\n",
    "### Interpretado: no compilado.\n",
    "[Velocidad Python](https://pyfound.blogspot.com/2021/05/the-2021-python-language-summit-making.html)\n",
    "\n",
    "![python_speed](imgs/python-speed.png)\n",
    "\n",
    "### De todas formas permite añadir C, es de hecho [CPython](https://github.com/python/cpython/blob/main/Python/import.c)!\n",
    "\n",
    "![python_on_c](imgs/python-on_c.jpg)"
   ]
  },
  {
   "cell_type": "markdown",
   "id": "1219551b-f9e5-4b00-8c32-0f1ae9d2ff13",
   "metadata": {
    "id": "1219551b-f9e5-4b00-8c32-0f1ae9d2ff13"
   },
   "source": [
    "## Batteries included!\n",
    "![python_batteries](imgs/python_batteries.png)\n",
    "> gzip, math, csv, date, email,...\n",
    "\n",
    "[Python vs... - import essay](https://www.reddit.com/r/ProgrammerHumor/comments/6a59fw/import_essay/)\n",
    "## y librerías externas\n",
    "![python_pypi](imgs/python_pypi.png)\n",
    "\n",
    "https://pypi.org/\n",
    "\n",
    "![api](imgs/lazy-python-developer.png)"
   ]
  },
  {
   "cell_type": "markdown",
   "id": "74021fd1-e045-471e-8aae-baaf2fef94ad",
   "metadata": {
    "id": "74021fd1-e045-471e-8aae-baaf2fef94ad"
   },
   "source": [
    "## Usando APIs (Application Programming Interface)\n",
    "![api](imgs/api.jpg)\n",
    "\n",
    "fuente:https://www.g2.com/articles/api"
   ]
  },
  {
   "cell_type": "markdown",
   "id": "1fd41296-5fd2-4d0e-b027-76259067d3dd",
   "metadata": {},
   "source": [
    "## Ejemplo"
   ]
  },
  {
   "cell_type": "code",
   "execution_count": null,
   "id": "2b648ac3-dee9-402f-b0f7-d712f488e2fb",
   "metadata": {
    "colab": {
     "base_uri": "https://localhost:8080/"
    },
    "id": "2b648ac3-dee9-402f-b0f7-d712f488e2fb",
    "outputId": "b3faf04d-8fe9-4ad3-b40b-f77ef34acb27"
   },
   "outputs": [],
   "source": [
    "from datetime import date, timedelta\n",
    "import requests\n",
    "\n",
    "hoy = date.today()\n",
    "ayer = hoy - timedelta(days=1)\n",
    "\n",
    "pais = \"spain\"\n",
    "\n",
    "direccion_api = f\"https://api.covid19api.com/country/{pais}/status/confirmed\"\n",
    "print(direccion_api)\n",
    "\n",
    "# parametros = {\"from\": str(ayer), \"to\": str(hoy)}\n",
    "parametros = {\"from\": '2023-02-10', \"to\": '2023-02-23'}\n",
    "\n",
    "respuesta_api = requests.get(direccion_api, params=parametros).json()\n",
    "total_confirmed = 0\n",
    "\n",
    "for dia in respuesta_api:\n",
    "    dia_texto = dia[\"Date\"][0:10]\n",
    "    casos = dia[\"Cases\"]\n",
    "    print(f\"Total casos Covid-19 en {pais} el {dia_texto}: {casos:,}\")\n",
    "\n",
    "casos_nuevos = respuesta_api[-1][\"Cases\"] - respuesta_api[0][\"Cases\"]\n",
    "print(f\"Casos nuevos diarios: {casos_nuevos}\")"
   ]
  },
  {
   "cell_type": "markdown",
   "id": "6097d010-4877-472f-8c1d-e1f48daba2dc",
   "metadata": {},
   "source": [
    "`import antigravity`\n",
    "\n",
    "![xkcd-antigravity.png](imgs/xkcd-antigravity.png)"
   ]
  }
 ],
 "metadata": {
  "colab": {
   "provenance": []
  },
  "kernelspec": {
   "display_name": "Python 3 (ipykernel)",
   "language": "python",
   "name": "python3"
  },
  "language_info": {
   "codemirror_mode": {
    "name": "ipython",
    "version": 3
   },
   "file_extension": ".py",
   "mimetype": "text/x-python",
   "name": "python",
   "nbconvert_exporter": "python",
   "pygments_lexer": "ipython3",
   "version": "3.9.15"
  }
 },
 "nbformat": 4,
 "nbformat_minor": 5
}
