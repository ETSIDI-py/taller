{
 "cells": [
  {
   "cell_type": "markdown",
   "id": "afa13356-099d-4fb0-a951-7a22f88e0b47",
   "metadata": {},
   "source": [
    "![logo](logo.png)"
   ]
  },
  {
   "cell_type": "markdown",
   "id": "7e1059ea-4890-4321-89f4-1a41b4a847f9",
   "metadata": {
    "tags": []
   },
   "source": [
    "# Actividad Universitaria Acreditable (1 ECTS)\n",
    "Significa que si cumples los requisitos (asistir al menos al 80% de la duración y realizar un proyecto) se certifica el cumplimiento satisfactorio del Taller.\n",
    "\n",
    "Para obtener el crédito ECTS hay que hacer una solicitud. La solicitud es un proceso administrativo independiente (aunque requiere haber pasado positivamente el Taller) que se realiza en Secretaría. Esta es la información al respecto:\n",
    "https://www.etsidi.upm.es/Estudiantes/AgendaAcademica/Actividades_formativas_reconocibles\n",
    "\n",
    "La actividad fue aprobada en 2021 y 2022 en la Comisión de Ordenación Académica de la ETSIDI:\n",
    "\n",
    "https://www.etsidi.upm.es/sfs/ETSIDI/ADMINISTRACION%20Y%20SECRETARIA/DOCUMENTOS/2021_06_25.pdf\n",
    "\n",
    "https://www.etsidi.upm.es/sfs/ETSIDI/ADMINISTRACION%20Y%20SECRETARIA/DOCUMENTOS/2022_11_15.pdf\n",
    "\n",
    "Calificación: Apto (No cuenta para nota expediente)"
   ]
  },
  {
   "cell_type": "markdown",
   "id": "f92814a6-4dbd-4b43-aa94-6028348be14e",
   "metadata": {},
   "source": [
    "# Participantes\n",
    "1 profesor de la ETSIDI\n",
    "\n",
    "15-20 estudiantes de la ETSIDI (Han cursado Programación previamente o con conocimientos)\n",
    "* Grados (ordenados por número de participantes)\n",
    "    * Graduado en Ingeniería Electrónica Industrial y Automática\n",
    "    * Graduado en Ingeniería Mecánica\n",
    "    * Graduado en Ingeniería en Diseño Industrial y Desarrollo de Producto\n",
    "    * Graduado en Ingeniería Química\n"
   ]
  },
  {
   "cell_type": "markdown",
   "id": "ad926af8-81a8-4fcc-9c4f-4d4994f9a7f1",
   "metadata": {},
   "source": [
    "# Programación"
   ]
  },
  {
   "cell_type": "markdown",
   "id": "9c6f0d0d-939d-42ac-9eb9-157809abcd07",
   "metadata": {},
   "source": [
    "## Alto vs. bajo nivel abstracción\n",
    "![abs1](imgs_intro/abstraccion1.png)\n",
    "![abs2](imgs_intro/abstraccion2.png)\n",
    "\n",
    "fuente:https://ergo-science.com/ja/levels-of-programming-languange/\n",
    "### ALTO \n",
    "![abs-alto](imgs_intro/abs_alto.png)\n",
    "\n",
    "https://www.scratchjr.org/learn/interface\n",
    "\n",
    "### BAJO\n",
    "![abs-bajo](imgs_intro/abs_bajo.png)\n",
    "\n",
    "https://www.youtube.com/watch?v=iYyRvd79KT4"
   ]
  },
  {
   "cell_type": "markdown",
   "id": "39237419-8844-4d75-8273-ad1e114ce5dc",
   "metadata": {},
   "source": [
    "# Python"
   ]
  },
  {
   "cell_type": "markdown",
   "id": "55cbf012-f427-45f1-8cdb-113e66613ef7",
   "metadata": {},
   "source": [
    "[**Top Programming Languages 2021** Python dominates as the de facto platform for new technologies](https://spectrum.ieee.org/top-programming-languages-2021)\n",
    "\n",
    ">\"Learn Python. That's the biggest takeaway we can give you from its continued dominance of IEEE Spectrum's annual interactive rankings of the top programming languages\""
   ]
  },
  {
   "cell_type": "markdown",
   "id": "1260e4d9-0ea7-4d34-a71b-e3a169c2025e",
   "metadata": {},
   "source": [
    "[import antigravity](https://xkcd.com/353/) #Esta en un huevo de Pascua de Python como \"import antigravity\" No funciona en Binder, lanzarlo en consola de Python"
   ]
  },
  {
   "cell_type": "markdown",
   "id": "28c6f72b-a01d-4aac-907a-8c0f0ffd80eb",
   "metadata": {},
   "source": [
    "https://www.reddit.com/r/Python/comments/6xsr6x/what_is_the_simple_analogy_to_explain_python/\n",
    "\n",
    ">\"Python is a language that makes code easy to understand, write, and reuse by removing visual noise from code ({;), leveraging white space as a programming structural element, and providing inherent and obvious standards for common class operations so code is elegant and consistent between programmers.\n",
    ">Too technical?\n",
    ">Python is a language that translates ideas between a human and computer. Other languages work like a computer thinks, then makes the human comply. Python emulates the way a human thinks, so that writing code is easier for us.\"\n",
    "\n",
    ">\"I'd agree; python is a programming language with an emphasis on the UX needs of the human. Takes into account our innate psychological tendencies. **Zen of Python** sums this up very well.\""
   ]
  },
  {
   "cell_type": "code",
   "execution_count": 1,
   "id": "4162d555-1b39-4840-8da6-9535a54f3f22",
   "metadata": {},
   "outputs": [
    {
     "name": "stdout",
     "output_type": "stream",
     "text": [
      "The Zen of Python, by Tim Peters\n",
      "\n",
      "Beautiful is better than ugly.\n",
      "Explicit is better than implicit.\n",
      "Simple is better than complex.\n",
      "Complex is better than complicated.\n",
      "Flat is better than nested.\n",
      "Sparse is better than dense.\n",
      "Readability counts.\n",
      "Special cases aren't special enough to break the rules.\n",
      "Although practicality beats purity.\n",
      "Errors should never pass silently.\n",
      "Unless explicitly silenced.\n",
      "In the face of ambiguity, refuse the temptation to guess.\n",
      "There should be one-- and preferably only one --obvious way to do it.\n",
      "Although that way may not be obvious at first unless you're Dutch.\n",
      "Now is better than never.\n",
      "Although never is often better than *right* now.\n",
      "If the implementation is hard to explain, it's a bad idea.\n",
      "If the implementation is easy to explain, it may be a good idea.\n",
      "Namespaces are one honking great idea -- let's do more of those!\n"
     ]
    }
   ],
   "source": [
    "import this"
   ]
  },
  {
   "cell_type": "markdown",
   "id": "25110cf5-477c-4159-add6-25747e36e835",
   "metadata": {},
   "source": [
    "![python_favorite](imgs_intro/python_favorite.png)\n",
    "![python_desired](imgs_intro/python_desired.png)\n",
    "\n",
    "fuente:https://www.i-programmer.info/news/216-python/14393-python-favorites.html"
   ]
  },
  {
   "cell_type": "markdown",
   "id": "e7dc83d7-6b2f-4fe9-858f-542be606c2e6",
   "metadata": {
    "tags": []
   },
   "source": [
    "## Performance!\n",
    "[Velocidad Python](https://pyfound.blogspot.com/2021/05/the-2021-python-language-summit-making.html)\n",
    "* Interpretado: no compilado.\n",
    "* De todas formas permite añadir C, es de hecho [CPython](https://github.com/python/cpython/blob/main/Python/import.c)!"
   ]
  },
  {
   "cell_type": "markdown",
   "id": "1219551b-f9e5-4b00-8c32-0f1ae9d2ff13",
   "metadata": {},
   "source": [
    "## Batteries included!\n",
    "![python_batteries](imgs_intro/python_batteries.png)\n",
    "> gzip, math, csv, date, email,...\n",
    "\n",
    "[Python vs... - import essay](https://www.reddit.com/r/ProgrammerHumor/comments/6a59fw/import_essay/)\n",
    "## y librerías externas\n",
    "![python_pypi](imgs_intro/python_pypi.png)\n",
    "\n",
    "https://pypi.org/"
   ]
  },
  {
   "cell_type": "markdown",
   "id": "74021fd1-e045-471e-8aae-baaf2fef94ad",
   "metadata": {},
   "source": [
    "## Usando APIs\n",
    "![api](imgs_intro/api.png)\n",
    "\n",
    "fuente:https://www.g2.com/articles/api"
   ]
  },
  {
   "cell_type": "code",
   "execution_count": 2,
   "id": "2b648ac3-dee9-402f-b0f7-d712f488e2fb",
   "metadata": {},
   "outputs": [
    {
     "name": "stdout",
     "output_type": "stream",
     "text": [
      "https://api.covid19api.com/country/spain/status/confirmed\n",
      "Total casos Covid-19 en spain el 2021-09-08: 4,898,258\n",
      "Total casos Covid-19 en spain el 2021-09-09: 4,903,021\n",
      "Casos nuevos diarios: 4763\n"
     ]
    }
   ],
   "source": [
    "from datetime import date, timedelta\n",
    "import requests\n",
    "\n",
    "hoy = date.today()\n",
    "ayer = hoy - timedelta(days=1)\n",
    "\n",
    "pais = \"spain\"\n",
    "\n",
    "direccion_api = f\"https://api.covid19api.com/country/{pais}/status/confirmed\"\n",
    "print(direccion_api)\n",
    "\n",
    "# parametros = {\"from\": str(ayer), \"to\": str(hoy)}\n",
    "parametros = {\"from\": '2021-09-08', \"to\": '2021-09-09'}\n",
    "\n",
    "respuesta_api = requests.get(direccion_api, params=parametros).json()\n",
    "total_confirmed = 0\n",
    "for dia in respuesta_api:\n",
    "    dia_texto = dia[\"Date\"][0:10]\n",
    "    casos = dia[\"Cases\"]\n",
    "    print(f\"Total casos Covid-19 en {pais} el {dia_texto}: {casos:,}\")\n",
    "\n",
    "casos_nuevos_dia = respuesta_api[1][\"Cases\"] - respuesta_api[0][\"Cases\"]\n",
    "print(f\"Casos nuevos diarios: {casos_nuevos_dia}\")"
   ]
  }
 ],
 "metadata": {
  "kernelspec": {
   "display_name": "Python 3 (ipykernel)",
   "language": "python",
   "name": "python3"
  },
  "language_info": {
   "codemirror_mode": {
    "name": "ipython",
    "version": 3
   },
   "file_extension": ".py",
   "mimetype": "text/x-python",
   "name": "python",
   "nbconvert_exporter": "python",
   "pygments_lexer": "ipython3",
   "version": "3.9.15"
  }
 },
 "nbformat": 4,
 "nbformat_minor": 5
}
