{
 "cells": [
  {
   "cell_type": "markdown",
   "id": "b52fa570-a921-4c3c-807b-0937f95000e7",
   "metadata": {},
   "source": [
    "# Syntax\n",
    "Python has no mandatory statement termination characters and blocks are specified by indentation. Indent to begin a block, dedent to end one. Statements that expect an indentation level end in a colon (:). Comments start with the pound (#) sign and are single-line, multi-line strings are used for multi-line comments. Values are assigned (in fact, objects are bound to names) with the equals sign (“=”), and equality testing is done using two equals signs (“==”). You can increment/decrement values using the += and -= operators respectively by the right-hand amount. This works on many datatypes, strings included. You can also use multiple variables on one line. For example:"
   ]
  },
  {
   "cell_type": "code",
   "execution_count": 1,
   "id": "928313f7-faad-4fc7-8a3a-2524b8946958",
   "metadata": {},
   "outputs": [
    {
     "name": "stdout",
     "output_type": "stream",
     "text": [
      "5\n"
     ]
    }
   ],
   "source": [
    "myvar = 3\n",
    "myvar += 2\n",
    "print(myvar) # esto es un comentario de 1 linea"
   ]
  },
  {
   "cell_type": "code",
   "execution_count": 2,
   "id": "13323456-394f-467c-b59b-32797fde380d",
   "metadata": {},
   "outputs": [
    {
     "name": "stdout",
     "output_type": "stream",
     "text": [
      "4\n"
     ]
    }
   ],
   "source": [
    "myvar -= 1\n",
    "print(myvar)"
   ]
  },
  {
   "cell_type": "code",
   "execution_count": 3,
   "id": "56f83770-dfba-46eb-bf6b-229b68faa636",
   "metadata": {},
   "outputs": [
    {
     "name": "stdout",
     "output_type": "stream",
     "text": [
      "3.1415926535\n"
     ]
    }
   ],
   "source": [
    "π = 3.1415926535 # ver Mapa de caracteres en Win\n",
    "print(π)"
   ]
  },
  {
   "cell_type": "code",
   "execution_count": 4,
   "id": "4990b2bc-a41c-41a3-8e97-9a52b7adb508",
   "metadata": {},
   "outputs": [
    {
     "name": "stdout",
     "output_type": "stream",
     "text": [
      "Hello world.\n"
     ]
    }
   ],
   "source": [
    "\"\"\"This is a multiline comment.\n",
    "The following lines concatenate the two strings.\"\"\"\n",
    "mystring = \"Hello\"\n",
    "mystring += \" world.\"\n",
    "print(mystring)"
   ]
  },
  {
   "cell_type": "code",
   "execution_count": 5,
   "id": "fc7bb733-a283-4928-a36e-116d6a930fd4",
   "metadata": {},
   "outputs": [
    {
     "name": "stdout",
     "output_type": "stream",
     "text": [
      "4 Hello world.\n",
      "Hello world. 4\n"
     ]
    }
   ],
   "source": [
    "# This swaps the variables in one line(!).\n",
    "# It doesn't violate strong typing because values aren't\n",
    "# actually being assigned, but new objects are bound to\n",
    "# the old names.\n",
    "print(myvar, mystring)\n",
    "myvar, mystring = mystring, myvar\n",
    "print(myvar, mystring)"
   ]
  },
  {
   "cell_type": "code",
   "execution_count": 6,
   "id": "efc26454-7e70-4e0f-acbf-579a9438bead",
   "metadata": {},
   "outputs": [
    {
     "name": "stdout",
     "output_type": "stream",
     "text": [
      "3 2\n"
     ]
    }
   ],
   "source": [
    "alto, ancho = 3, 2 # asignación múltiple\n",
    "print(alto, ancho)"
   ]
  },
  {
   "cell_type": "code",
   "execution_count": 7,
   "id": "9c0162de-6a1c-4e10-b9f7-41f445357ab9",
   "metadata": {},
   "outputs": [
    {
     "name": "stdout",
     "output_type": "stream",
     "text": [
      "<class 'int'>\n",
      "<class 'NoneType'>\n",
      "None\n"
     ]
    }
   ],
   "source": [
    "print(type(alto)) # función type()\n",
    "\n",
    "variable = None # None, parecido a NULL, pero es un objeto, es más general. Se usa como valor por defecto\n",
    "print(type(variable))\n",
    "\n",
    "if variable is None:\n",
    "    print(variable)"
   ]
  },
  {
   "cell_type": "code",
   "execution_count": 8,
   "id": "5367e02d-c6a0-40e1-8e8d-ef9f30d67651",
   "metadata": {},
   "outputs": [
    {
     "name": "stdout",
     "output_type": "stream",
     "text": [
      "\n",
      "Here is a list of the Python keywords.  Enter any keyword to get more help.\n",
      "\n",
      "False               class               from                or\n",
      "None                continue            global              pass\n",
      "True                def                 if                  raise\n",
      "and                 del                 import              return\n",
      "as                  elif                in                  try\n",
      "assert              else                is                  while\n",
      "async               except              lambda              with\n",
      "await               finally             nonlocal            yield\n",
      "break               for                 not                 \n",
      "\n"
     ]
    }
   ],
   "source": [
    "help(\"keywords\") # no se pueden usar como nombre de variables"
   ]
  },
  {
   "cell_type": "markdown",
   "id": "d08235fc-cf65-4d2d-99b4-c99a0ad79746",
   "metadata": {
    "tags": []
   },
   "source": [
    "# Strings\n",
    "Its strings can use either single or double quotation marks, and you can have quotation marks of one kind inside a string that uses the other kind (i.e. “He said ’hello’.” is valid). Multiline strings are enclosed in _triple double (or single) quotes_ (“”“). Python strings are always Unicode, but there is another string type that is pure bytes. Those are called bytestrings and are represented with the b prefix, for example b'Hello \\xce\\xb1'. . To fill a string with values, you use the % (modulo) operator and a tuple. Each %s gets replaced with an item from the tuple, left to right, and you can also use dictionary substitutions, like so:"
   ]
  },
  {
   "cell_type": "code",
   "execution_count": 9,
   "id": "6a34f84d-a974-4715-bf7b-7c79fa28173a",
   "metadata": {},
   "outputs": [
    {
     "name": "stdout",
     "output_type": "stream",
     "text": [
      "Hello, Peppa Pig\n",
      "Peppa Pig longitud= 9\n"
     ]
    }
   ],
   "source": [
    "name = 'Peppa'\n",
    "apellido = 'Pig'\n",
    "print(f\"Hello, {name} {apellido}\")\n",
    "\n",
    "nombre_junto = name + ' ' + apellido\n",
    "print(nombre_junto, \"longitud=\", len(nombre_junto))"
   ]
  },
  {
   "cell_type": "code",
   "execution_count": 10,
   "id": "2283fc30-f6e1-45e8-bdf6-d8c2877ec0fb",
   "metadata": {},
   "outputs": [
    {
     "name": "stdout",
     "output_type": "stream",
     "text": [
      "Jovencillo emponzoñado de whisky: ¡qué figurota exhibe!\n",
      "['Jovencillo', 'emponzoñado', 'de', 'whisky:', '¡qué', 'figurota', 'exhibe!']\n",
      "Jovencillo-emponzoñado-de-whisky:-¡qué-figurota-exhibe!\n"
     ]
    }
   ],
   "source": [
    "frase = \"Jovencillo emponzoñado de whisky: ¡qué figurota exhibe!\"\n",
    "print(frase)\n",
    "\n",
    "frase_troceada = frase.split() # método objeto de la clase string. En Python TODO SON OBJETOS!\n",
    "print(frase_troceada)\n",
    "\n",
    "frase_unida = '-'.join(frase_troceada) # otro método\n",
    "print(frase_unida)"
   ]
  },
  {
   "cell_type": "markdown",
   "id": "c0bcb201-6f14-497a-843e-0278746a4fff",
   "metadata": {},
   "source": [
    "# Data types\n",
    "The data structures available in python are lists, tuples and dictionaries. Sets are available in the sets library (but are built-in in Python 2.5 and later). Lists are like one-dimensional arrays (but you can also have lists of other lists), dictionaries are associative arrays (a.k.a. hash tables) and tuples are immutable one-dimensional arrays (Python “arrays” can be of any type, so you can mix e.g. integers, strings, etc in lists/dictionaries/tuples). The index of the first item in all array types is 0. Negative numbers count from the end towards the beginning, -1 is the last item. Variables can point to functions. The usage is as follows:"
   ]
  },
  {
   "cell_type": "code",
   "execution_count": 11,
   "id": "cf1ab4d1-150d-4a17-b82e-be9243e24ba8",
   "metadata": {},
   "outputs": [
    {
     "name": "stdout",
     "output_type": "stream",
     "text": [
      "['List item 1', 2, 3.14]\n"
     ]
    }
   ],
   "source": [
    "mylist = [\"List item 1\", 2, 3.14]\n",
    "print(mylist)"
   ]
  },
  {
   "cell_type": "code",
   "execution_count": 12,
   "id": "18b11d22-613e-4de9-b939-500ab83252d9",
   "metadata": {},
   "outputs": [
    {
     "name": "stdout",
     "output_type": "stream",
     "text": [
      "['List item 1 again', 2, 3.14]\n"
     ]
    }
   ],
   "source": [
    "mylist[0] = \"List item 1 again\" # We're changing the item.\n",
    "print(mylist)"
   ]
  },
  {
   "cell_type": "code",
   "execution_count": 13,
   "id": "cafda2c6-49fe-4df9-88d1-3bffb2dcfad5",
   "metadata": {},
   "outputs": [
    {
     "name": "stdout",
     "output_type": "stream",
     "text": [
      "['List item 1 again', 2, 3.21]\n"
     ]
    }
   ],
   "source": [
    "mylist[-1] = 3.21 # Here, we refer to the last item.\n",
    "print(mylist)"
   ]
  },
  {
   "cell_type": "code",
   "execution_count": 14,
   "id": "2fe12edb-f68c-49d5-85dd-ebd3c0475bba",
   "metadata": {},
   "outputs": [
    {
     "data": {
      "text/plain": [
       "3"
      ]
     },
     "execution_count": 14,
     "metadata": {},
     "output_type": "execute_result"
    }
   ],
   "source": [
    "len(mylist) # funcion len() longitud de objetos iterables (de tipo secuencia)"
   ]
  },
  {
   "cell_type": "code",
   "execution_count": 15,
   "id": "bfecaa3e-51d0-47e2-8b2f-5bb36eef41b0",
   "metadata": {},
   "outputs": [
    {
     "name": "stdout",
     "output_type": "stream",
     "text": [
      "{'Key 1': 'Value 1', 2: 3, 'pi': 3.14}\n"
     ]
    }
   ],
   "source": [
    "mydict = {\"Key 1\": \"Value 1\", 2: 3, \"pi\": 3.14}\n",
    "print(mydict)"
   ]
  },
  {
   "cell_type": "code",
   "execution_count": 16,
   "id": "9c79eb98-7eb7-4843-a22a-cbb286c6da5a",
   "metadata": {},
   "outputs": [
    {
     "data": {
      "text/plain": [
       "3.14"
      ]
     },
     "execution_count": 16,
     "metadata": {},
     "output_type": "execute_result"
    }
   ],
   "source": [
    "mydict[\"pi\"]"
   ]
  },
  {
   "cell_type": "code",
   "execution_count": 17,
   "id": "2b34fc05-96a2-48fc-9a3d-9012aabe122a",
   "metadata": {},
   "outputs": [
    {
     "name": "stdout",
     "output_type": "stream",
     "text": [
      "{'Key 1': 'Value 1', 2: 3, 'pi': 3.15}\n"
     ]
    }
   ],
   "source": [
    "mydict[\"pi\"] = 3.15 # This is how you change dictionary values.\n",
    "print(mydict)"
   ]
  },
  {
   "cell_type": "markdown",
   "id": "510c1c9a-44ca-400d-adb8-5227409b657f",
   "metadata": {},
   "source": [
    "![python-tipos](imgs/python_tiposdatos.png)\n",
    "\n",
    "fuente:https://pynative.com/wp-content/uploads/2021/02/python-data-types.jpg"
   ]
  },
  {
   "cell_type": "markdown",
   "id": "206bf98c-d66c-466e-8724-f28c55510fa9",
   "metadata": {},
   "source": [
    "# Casting\n",
    "Compared to other programming languages, Python has the following features:\n",
    "\n",
    "* Interpreted: It’s portable and quicker to experiment with than compiled languages.\n",
    "* Multiparadigm: It lets you write code in different styles, including object-oriented, imperative, and functional style.\n",
    "* Dynamically typed: It checks variable types at runtime, so you don’t need to declare them explicitly.\n",
    "* Strongly typed: It won’t let unsafe operations on incompatible types go unnoticed."
   ]
  },
  {
   "cell_type": "code",
   "execution_count": 18,
   "id": "6dfa2c22-1c40-4a9f-894d-48fa22247582",
   "metadata": {},
   "outputs": [
    {
     "name": "stdout",
     "output_type": "stream",
     "text": [
      "12 12.0 12\n"
     ]
    }
   ],
   "source": [
    "entero = 12\n",
    "real = float(entero)\n",
    "entero2 = int(real)\n",
    "\n",
    "print(entero, real, entero2)"
   ]
  },
  {
   "cell_type": "code",
   "execution_count": 19,
   "id": "99fec1cb-26aa-4ddc-9f0f-be1052d811b1",
   "metadata": {},
   "outputs": [
    {
     "name": "stdout",
     "output_type": "stream",
     "text": [
      "5\n",
      "True\n"
     ]
    }
   ],
   "source": [
    "cadena = str(12345)\n",
    "print(cadena[-1]) # casting de int -> str\n",
    "\n",
    "#pulsar tab\n",
    "print(cadena.isdecimal())"
   ]
  },
  {
   "cell_type": "code",
   "execution_count": 20,
   "id": "bca6a66c-5e25-4c38-852d-896ce78a1fc1",
   "metadata": {},
   "outputs": [],
   "source": [
    "#cadena + entero # fuertemente tipado"
   ]
  },
  {
   "cell_type": "markdown",
   "id": "0e057000-5f20-4a04-b3ed-fdec46231ef2",
   "metadata": {},
   "source": [
    "# Flow control statements\n",
    "Flow control statements are if, for, and while. There is no switch; instead, use if. Use for to enumerate through members of a list. To obtain a sequence of numbers you can iterate over, use range(<number>). These statements’ syntax is thus:"
   ]
  },
  {
   "cell_type": "code",
   "execution_count": 21,
   "id": "b1a28b46-f7f1-4711-a5da-1891778ffa40",
   "metadata": {},
   "outputs": [
    {
     "name": "stdout",
     "output_type": "stream",
     "text": [
      "1 <3\n",
      "2 <3\n",
      "3 3\n",
      "4 >3\n",
      "5 >3\n"
     ]
    }
   ],
   "source": [
    "lista = [1, 2, 3, 4, 5]\n",
    "for numero in lista: # no hay variable iteradora, se itera el objeto iterable (lista, diccionario,...). En \"numero\" está el elemento de cada iteración\n",
    "    # Check if number is one of\n",
    "    # the numbers in the tuple.\n",
    "    if numero in [4, 5]:\n",
    "        print(numero, '>3')\n",
    "    elif numero < 3:\n",
    "        print(numero, '<3')\n",
    "    else:\n",
    "        print(numero, '3')"
   ]
  },
  {
   "cell_type": "code",
   "execution_count": 22,
   "id": "f462993f-b4d3-481d-9cea-1e57b6a72991",
   "metadata": {},
   "outputs": [
    {
     "name": "stdout",
     "output_type": "stream",
     "text": [
      "fuera\n"
     ]
    }
   ],
   "source": [
    "if 2 < lista[1] < 4:\n",
    "    print('dentro de intervalo')\n",
    "else:\n",
    "    print('fuera')"
   ]
  },
  {
   "cell_type": "code",
   "execution_count": 23,
   "id": "28757008-a78e-4401-97ba-4ea12475deec",
   "metadata": {},
   "outputs": [],
   "source": [
    "while lista[0] == 0:\n",
    "    print('bucle infinito')"
   ]
  },
  {
   "cell_type": "markdown",
   "id": "8b6d19bf-22d0-4d5b-a892-c84acd1abe52",
   "metadata": {},
   "source": [
    "# Functions\n",
    "Functions are declared with the def keyword. Optional arguments are set in the function declaration after the mandatory arguments by being assigned a default value. For named arguments, the name of the argument is assigned a value. Functions can return a tuple (and using tuple unpacking you can effectively return multiple values). Lambda functions are ad hoc functions that are comprised of a single statement. Parameters are passed by reference, but immutable types (tuples, ints, strings, etc) cannot be changed in the caller by the callee. This is because only the memory location of the item is passed, and binding another object to a variable discards the old one, so immutable types are replaced. For example:"
   ]
  },
  {
   "cell_type": "code",
   "execution_count": 24,
   "id": "26abc022-134f-4644-b820-8d723625145a",
   "metadata": {},
   "outputs": [],
   "source": [
    "# an_int and a_string are optional, they have default values\n",
    "# if one is not passed (2 and \"A default string\", respectively).\n",
    "def funcion(una_lista, un_int=2, un_string=\"Un string por defecto\"):\n",
    "    una_lista.append(\"A new item\") #las listas también son objetos (todas las variables lo son). Tienen métodos!\n",
    "    un_int = 4\n",
    "    return una_lista, un_int, un_string # devuelve varias variables"
   ]
  },
  {
   "cell_type": "code",
   "execution_count": 25,
   "id": "f6dca3ad-792e-48b3-beb4-3e10a4757f71",
   "metadata": {},
   "outputs": [
    {
     "name": "stdout",
     "output_type": "stream",
     "text": [
      "([1, 2, 3, 'A new item'], 4, 'Un string por defecto')\n"
     ]
    }
   ],
   "source": [
    ">>> my_list = [1, 2, 3]\n",
    ">>> my_int = 10\n",
    ">>> print(funcion(my_list, my_int))"
   ]
  },
  {
   "cell_type": "code",
   "execution_count": 26,
   "id": "86b37b8b-d643-48ba-b069-125d0c478545",
   "metadata": {},
   "outputs": [
    {
     "data": {
      "text/plain": [
       "[1, 2, 3, 'A new item']"
      ]
     },
     "execution_count": 26,
     "metadata": {},
     "output_type": "execute_result"
    }
   ],
   "source": [
    "my_list # listas y diccionarios son mutables, el resto NO!"
   ]
  },
  {
   "cell_type": "code",
   "execution_count": 27,
   "id": "5f9c3151-31ce-43a7-bb4d-077b0422b86e",
   "metadata": {},
   "outputs": [
    {
     "data": {
      "text/plain": [
       "10"
      ]
     },
     "execution_count": 27,
     "metadata": {},
     "output_type": "execute_result"
    }
   ],
   "source": [
    "my_int # el enterio NO cambia!"
   ]
  },
  {
   "cell_type": "markdown",
   "id": "0f6abbcf-7d24-4583-b3f4-9c1705c1a3ad",
   "metadata": {},
   "source": [
    "# Classes\n",
    "Python supports a limited form of multiple inheritance in classes. Private variables and methods can be declared (by convention, this is not enforced by the language) by adding a leading underscore (e.g. _spam). We can also bind arbitrary names to class instances. An example follows:\n",
    "\n",
    "## Permite crear tus propios objetos: con métodos y atributos"
   ]
  },
  {
   "cell_type": "markdown",
   "id": "5a495dd7-4f2f-4d3a-9a34-cead0746aa75",
   "metadata": {},
   "source": [
    "# Importing\n",
    "External libraries are used with the import [libname] keyword. You can also use from [libname] import [funcname] for individual functions. Here is an example:"
   ]
  },
  {
   "cell_type": "code",
   "execution_count": 28,
   "id": "159e9760-19e4-429a-8997-dd6a47f836aa",
   "metadata": {},
   "outputs": [
    {
     "name": "stdout",
     "output_type": "stream",
     "text": [
      "77\n"
     ]
    }
   ],
   "source": [
    "import random\n",
    "from datetime import date # importa un módulo de la librería\n",
    "\n",
    "randomint = random.randint(1, 100)\n",
    "print(randomint)"
   ]
  }
 ],
 "metadata": {
  "kernelspec": {
   "display_name": "Python 3 (ipykernel)",
   "language": "python",
   "name": "python3"
  },
  "language_info": {
   "codemirror_mode": {
    "name": "ipython",
    "version": 3
   },
   "file_extension": ".py",
   "mimetype": "text/x-python",
   "name": "python",
   "nbconvert_exporter": "python",
   "pygments_lexer": "ipython3",
   "version": "3.9.15"
  }
 },
 "nbformat": 4,
 "nbformat_minor": 5
}
