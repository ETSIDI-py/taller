{
 "cells": [
  {
   "cell_type": "markdown",
   "id": "b52fa570-a921-4c3c-807b-0937f95000e7",
   "metadata": {},
   "source": [
    "# Syntax\n",
    "Python no tiene caracteres de terminación de sentencia obligatorios y los bloques se especifican mediante sangría. Sangrar con tabulador para empezar un bloque, desangrar para terminarlo. Las sentencias que esperan un nivel de indentación terminan con dos puntos (:). Los comentarios comienzan con el signo almohadilla (#) y son de una sola línea; para los comentarios de varias líneas se utilizan cadenas de varias líneas. Los valores se asignan (de hecho, los objetos se vinculan a nombres) con el signo de igualdad (\"=\"), y la comprobación de igualdad se realiza mediante dos signos de igualdad (\"==\"). Los valores pueden incrementarse o reducirse mediante los operadores += y -=, respectivamente, en la cantidad de la derecha. Esto funciona con muchos tipos de datos, incluidas las cadenas. También puede utilizar varias variables en una línea. Por ejemplo:"
   ]
  },
  {
   "cell_type": "code",
   "execution_count": null,
   "id": "928313f7-faad-4fc7-8a3a-2524b8946958",
   "metadata": {},
   "outputs": [],
   "source": [
    "myvar = 3\n",
    "myvar += 2\n",
    "print(myvar) # esto es un comentario de 1 linea"
   ]
  },
  {
   "cell_type": "code",
   "execution_count": null,
   "id": "13323456-394f-467c-b59b-32797fde380d",
   "metadata": {},
   "outputs": [],
   "source": [
    "myvar -= 1\n",
    "print(myvar)"
   ]
  },
  {
   "cell_type": "code",
   "execution_count": null,
   "id": "56f83770-dfba-46eb-bf6b-229b68faa636",
   "metadata": {},
   "outputs": [],
   "source": [
    "π = 3.1415926535 # ver Mapa de caracteres en Win\n",
    "print(π)"
   ]
  },
  {
   "cell_type": "code",
   "execution_count": null,
   "id": "4990b2bc-a41c-41a3-8e97-9a52b7adb508",
   "metadata": {},
   "outputs": [],
   "source": [
    "\"\"\"This is a multiline comment.\n",
    "The following lines concatenate the two strings.\"\"\"\n",
    "mystring = \"Hello\"\n",
    "mystring += \" world.\"\n",
    "print(mystring)"
   ]
  },
  {
   "cell_type": "code",
   "execution_count": null,
   "id": "fc7bb733-a283-4928-a36e-116d6a930fd4",
   "metadata": {},
   "outputs": [],
   "source": [
    "# Esto intercambia las variables en una línea(!).\n",
    "# No viola el tipado fuerte porque los valores no son\n",
    "# asignados, sino que los nuevos objetos están ligados a\n",
    "# los nombres antiguos.\n",
    "print(myvar, mystring)\n",
    "myvar, mystring = mystring, myvar\n",
    "print(myvar, mystring)"
   ]
  },
  {
   "cell_type": "code",
   "execution_count": null,
   "id": "efc26454-7e70-4e0f-acbf-579a9438bead",
   "metadata": {},
   "outputs": [],
   "source": [
    "alto, ancho = 3, 2 # asignación múltiple\n",
    "print(alto, ancho)"
   ]
  },
  {
   "cell_type": "code",
   "execution_count": null,
   "id": "9c0162de-6a1c-4e10-b9f7-41f445357ab9",
   "metadata": {},
   "outputs": [],
   "source": [
    "print(type(alto)) # función type()\n",
    "\n",
    "variable = None # None, parecido a NULL, pero es un objeto, es más general. Se usa como valor por defecto\n",
    "print(type(variable))\n",
    "\n",
    "if variable is None:\n",
    "    print(variable)"
   ]
  },
  {
   "cell_type": "code",
   "execution_count": null,
   "id": "5367e02d-c6a0-40e1-8e8d-ef9f30d67651",
   "metadata": {},
   "outputs": [],
   "source": [
    "help(\"keywords\") # no se pueden usar como nombre de variables"
   ]
  },
  {
   "cell_type": "markdown",
   "id": "d08235fc-cf65-4d2d-99b4-c99a0ad79746",
   "metadata": {
    "tags": []
   },
   "source": [
    "# Strings\n",
    "Las cadenas (strings) pueden utilizar comillas simples o dobles, y puede tener comillas de un tipo dentro de una cadena que utilice el otro tipo (por ejemplo, \"Él dijo 'hola'\" es válido). Las cadenas multilínea se encierran entre _comillas dobles (o simples) triples_ (\"\"\"). Las cadenas de Python son siempre Unicode, pero hay otro tipo de cadenas que son puros bytes. Se llaman bytestrings y se representan con el prefijo b, por ejemplo b'Hola \\xce\\xb1'. . Para llenar una cadena con valores, se utiliza el operador % (módulo) y una tupla. Cada %s se sustituye por un elemento de la tupla, de izquierda a derecha, y también se pueden utilizar sustituciones de diccionario, así:"
   ]
  },
  {
   "cell_type": "code",
   "execution_count": null,
   "id": "6a34f84d-a974-4715-bf7b-7c79fa28173a",
   "metadata": {},
   "outputs": [],
   "source": [
    "name = 'Peppa'\n",
    "apellido = 'Pig'\n",
    "print(f\"Hello, {name} {apellido}\")\n",
    "\n",
    "nombre_junto = name + ' ' + apellido\n",
    "print(nombre_junto, \"longitud=\", len(nombre_junto))"
   ]
  },
  {
   "cell_type": "code",
   "execution_count": null,
   "id": "2283fc30-f6e1-45e8-bdf6-d8c2877ec0fb",
   "metadata": {},
   "outputs": [],
   "source": [
    "frase = \"Jovencillo emponzoñado de whisky: ¡qué figurota exhibe!\"\n",
    "print(frase)\n",
    "\n",
    "frase_troceada = frase.split() # método objeto de la clase string. En Python TODO SON OBJETOS!\n",
    "print(frase_troceada)\n",
    "\n",
    "frase_unida = '-'.join(frase_troceada) # otro método\n",
    "print(frase_unida)"
   ]
  },
  {
   "cell_type": "markdown",
   "id": "c0bcb201-6f14-497a-843e-0278746a4fff",
   "metadata": {},
   "source": [
    "# Tipos de datos\n",
    "Las estructuras de datos disponibles en Python son listas, tuplas y diccionarios. Los conjuntos están disponibles en la biblioteca sets (pero están incorporados en Python 2.5 y posteriores). Las listas son como arrays unidimensionales (pero también puedes tener listas de otras listas), los diccionarios son arrays asociativos (también conocidos como tablas hash) y las tuplas son arrays unidimensionales inmutables (los \"arrays\" de Python pueden ser de cualquier tipo, así que puedes mezclar, por ejemplo, enteros, cadenas, etc. en listas/diccionarios/tuplas). El índice del primer elemento en todos los tipos de matrices es 0. Los números negativos cuentan desde el final hacia el principio, -1 es el último elemento. Las variables pueden apuntar a funciones. El uso es el siguiente:"
   ]
  },
  {
   "cell_type": "code",
   "execution_count": null,
   "id": "cf1ab4d1-150d-4a17-b82e-be9243e24ba8",
   "metadata": {},
   "outputs": [],
   "source": [
    "mylist = [\"List item 1\", 2, 3.14]\n",
    "print(mylist)"
   ]
  },
  {
   "cell_type": "code",
   "execution_count": null,
   "id": "18b11d22-613e-4de9-b939-500ab83252d9",
   "metadata": {},
   "outputs": [],
   "source": [
    "mylist[0] = \"List item 1 again\" # We're changing the item.\n",
    "print(mylist)"
   ]
  },
  {
   "cell_type": "code",
   "execution_count": null,
   "id": "cafda2c6-49fe-4df9-88d1-3bffb2dcfad5",
   "metadata": {},
   "outputs": [],
   "source": [
    "mylist[-1] = 3.21 # Here, we refer to the last item.\n",
    "print(mylist)"
   ]
  },
  {
   "cell_type": "code",
   "execution_count": null,
   "id": "2fe12edb-f68c-49d5-85dd-ebd3c0475bba",
   "metadata": {},
   "outputs": [],
   "source": [
    "len(mylist) # funcion len() longitud de objetos iterables (de tipo secuencia)"
   ]
  },
  {
   "cell_type": "code",
   "execution_count": null,
   "id": "bfecaa3e-51d0-47e2-8b2f-5bb36eef41b0",
   "metadata": {},
   "outputs": [],
   "source": [
    "mydict = {\"Key 1\": \"Value 1\", 2: 3, \"pi\": 3.14}\n",
    "print(mydict)"
   ]
  },
  {
   "cell_type": "code",
   "execution_count": null,
   "id": "9c79eb98-7eb7-4843-a22a-cbb286c6da5a",
   "metadata": {},
   "outputs": [],
   "source": [
    "mydict[\"pi\"]"
   ]
  },
  {
   "cell_type": "code",
   "execution_count": null,
   "id": "2b34fc05-96a2-48fc-9a3d-9012aabe122a",
   "metadata": {},
   "outputs": [],
   "source": [
    "mydict[\"pi\"] = 3.15 # This is how you change dictionary values.\n",
    "print(mydict)"
   ]
  },
  {
   "cell_type": "markdown",
   "id": "510c1c9a-44ca-400d-adb8-5227409b657f",
   "metadata": {},
   "source": [
    "![python-tipos](imgs/python_tiposdatos.png)\n",
    "\n",
    "fuente:https://pynative.com/wp-content/uploads/2021/02/python-data-types.jpg"
   ]
  },
  {
   "cell_type": "markdown",
   "id": "206bf98c-d66c-466e-8724-f28c55510fa9",
   "metadata": {},
   "source": [
    "# Casting\n",
    "En comparación con otros lenguajes de programación, Python presenta las siguientes características:\n",
    "\n",
    "* Interpretado: Es portable y más rápido de experimentar que los lenguajes compilados.\n",
    "* Multiparadigma: Permite escribir código en diferentes estilos, como el orientado a objetos, el imperativo y el funcional.\n",
    "* Tipado dinámico: Comprueba los tipos de las variables en tiempo de ejecución, por lo que no es necesario declararlas explícitamente.\n",
    "* Tipado fuerte: No permite que las operaciones inseguras con tipos incompatibles pasen desapercibidas."
   ]
  },
  {
   "cell_type": "code",
   "execution_count": null,
   "id": "6dfa2c22-1c40-4a9f-894d-48fa22247582",
   "metadata": {},
   "outputs": [],
   "source": [
    "entero = 12\n",
    "real = float(entero)\n",
    "entero2 = int(real)\n",
    "\n",
    "print(entero, real, entero2)"
   ]
  },
  {
   "cell_type": "code",
   "execution_count": null,
   "id": "99fec1cb-26aa-4ddc-9f0f-be1052d811b1",
   "metadata": {},
   "outputs": [],
   "source": [
    "cadena = str(12345)\n",
    "print(cadena[-1]) # casting de int -> str\n",
    "\n",
    "#pulsar tab\n",
    "print(cadena.isdecimal())"
   ]
  },
  {
   "cell_type": "code",
   "execution_count": null,
   "id": "bca6a66c-5e25-4c38-852d-896ce78a1fc1",
   "metadata": {},
   "outputs": [],
   "source": [
    "cadena + entero # fuertemente tipado"
   ]
  },
  {
   "cell_type": "markdown",
   "id": "0e057000-5f20-4a04-b3ed-fdec46231ef2",
   "metadata": {},
   "source": [
    "# Flow control statements\n",
    "Las sentencias de control de flujo son if, for y while. No hay swtich; en su lugar, utilice if. Utilice for para enumerar los miembros de una lista. Para obtener una secuencia de números sobre la que pueda iterar, utilice range(<número>). La sintaxis de estas sentencias es la siguiente:"
   ]
  },
  {
   "cell_type": "code",
   "execution_count": null,
   "id": "b1a28b46-f7f1-4711-a5da-1891778ffa40",
   "metadata": {},
   "outputs": [],
   "source": [
    "lista = [1, 2, 3, 4, 5]\n",
    "for numero in lista: # no hay variable iteradora, se itera el objeto iterable (lista, diccionario,...). En \"numero\" está el elemento de cada iteración\n",
    "    # Check if number is one of\n",
    "    # the numbers in the tuple.\n",
    "    if numero in [4, 5]:\n",
    "        print(numero, '>3')\n",
    "    elif numero < 3:\n",
    "        print(numero, '<3')\n",
    "    else:\n",
    "        print(numero, '3')"
   ]
  },
  {
   "cell_type": "code",
   "execution_count": null,
   "id": "f462993f-b4d3-481d-9cea-1e57b6a72991",
   "metadata": {},
   "outputs": [],
   "source": [
    "if 2 < lista[2] < 4:\n",
    "    print('dentro de intervalo')\n",
    "else:\n",
    "    print('fuera')"
   ]
  },
  {
   "cell_type": "code",
   "execution_count": null,
   "id": "28757008-a78e-4401-97ba-4ea12475deec",
   "metadata": {},
   "outputs": [],
   "source": [
    "#while lista[0] == 1:\n",
    "#    print('bucle infinito')"
   ]
  },
  {
   "cell_type": "markdown",
   "id": "8b6d19bf-22d0-4d5b-a892-c84acd1abe52",
   "metadata": {},
   "source": [
    "# Funciones\n",
    "Las funciones se declaran con la palabra clave def. Los argumentos opcionales se establecen en la declaración de la función después de los argumentos obligatorios asignándoles un valor por defecto. Para los argumentos con nombre, se asigna un valor al nombre del argumento. Las funciones pueden devolver una tupla (y utilizando el desempaquetado de tuplas se pueden devolver múltiples valores). Las funciones lambda son funciones ad hoc que constan de una única sentencia. Los parámetros se pasan por referencia, pero los tipos inmutables (tuplas, ints, cadenas, etc) no pueden ser cambiados en el llamador por el llamador. Esto se debe a que sólo se pasa la ubicación de memoria del elemento, y al vincular otro objeto a una variable se descarta el anterior, por lo que los tipos inmutables son reemplazados. Por ejemplo:"
   ]
  },
  {
   "cell_type": "code",
   "execution_count": null,
   "id": "26abc022-134f-4644-b820-8d723625145a",
   "metadata": {},
   "outputs": [],
   "source": [
    "# un_int y un_string son opcionales, tienen valores por defecto\n",
    "# si alguno no se le pasa (2 and \"A default string\", respectivamente).\n",
    "\n",
    "def funcion(una_lista, un_int=2, un_string=\"Un string por defecto\"):\n",
    "    una_lista.append(\"A new item\") #las listas también son objetos (todas las variables lo son). Tienen métodos!\n",
    "    un_int = 4\n",
    "    return una_lista, un_int, un_string # devuelve varias variables"
   ]
  },
  {
   "cell_type": "code",
   "execution_count": null,
   "id": "f6dca3ad-792e-48b3-beb4-3e10a4757f71",
   "metadata": {},
   "outputs": [],
   "source": [
    ">>> my_list = [1, 2, 3]\n",
    ">>> my_int = 10\n",
    ">>> print(funcion(my_list, my_int))"
   ]
  },
  {
   "cell_type": "code",
   "execution_count": null,
   "id": "86b37b8b-d643-48ba-b069-125d0c478545",
   "metadata": {},
   "outputs": [],
   "source": [
    "my_list # listas y diccionarios son mutables, el resto NO!"
   ]
  },
  {
   "cell_type": "code",
   "execution_count": null,
   "id": "5f9c3151-31ce-43a7-bb4d-077b0422b86e",
   "metadata": {},
   "outputs": [],
   "source": [
    "my_int # el enterio NO cambia!"
   ]
  },
  {
   "cell_type": "markdown",
   "id": "0f6abbcf-7d24-4583-b3f4-9c1705c1a3ad",
   "metadata": {},
   "source": [
    "# Clases\n",
    "Python soporta una forma limitada de herencia múltiple en las clases. Se pueden declarar variables y métodos privados (por convención, el lenguaje no lo impone) añadiendo un guión bajo inicial (por ejemplo, _spam). También podemos vincular nombres arbitrarios a instancias de clase.\n",
    "\n",
    "## Permite crear tus propios objetos: con métodos y atributos"
   ]
  },
  {
   "cell_type": "markdown",
   "id": "5a495dd7-4f2f-4d3a-9a34-cead0746aa75",
   "metadata": {},
   "source": [
    "# Importando\n",
    "Las bibliotecas externas se utilizan con la palabra clave import [libname]. También puede utilizar from [libname] import [funcname] para funciones individuales. He aquí un ejemplo:"
   ]
  },
  {
   "cell_type": "code",
   "execution_count": null,
   "id": "159e9760-19e4-429a-8997-dd6a47f836aa",
   "metadata": {},
   "outputs": [],
   "source": [
    "import random\n",
    "from datetime import date # importa un módulo de la librería\n",
    "\n",
    "randomint = random.randint(1, 100)\n",
    "print(randomint)"
   ]
  }
 ],
 "metadata": {
  "kernelspec": {
   "display_name": "Python 3 (ipykernel)",
   "language": "python",
   "name": "python3"
  },
  "language_info": {
   "codemirror_mode": {
    "name": "ipython",
    "version": 3
   },
   "file_extension": ".py",
   "mimetype": "text/x-python",
   "name": "python",
   "nbconvert_exporter": "python",
   "pygments_lexer": "ipython3",
   "version": "3.9.15"
  }
 },
 "nbformat": 4,
 "nbformat_minor": 5
}
